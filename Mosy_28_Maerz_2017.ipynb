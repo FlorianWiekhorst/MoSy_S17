{
 "cells": [
  {
   "cell_type": "code",
   "execution_count": 89,
   "metadata": {
    "collapsed": true
   },
   "outputs": [],
   "source": [
    "from aufgabe1 import getTemp2 as getTemp\n",
    "from aufgabe1 import getTemp3 as getTemp3"
   ]
  },
  {
   "cell_type": "code",
   "execution_count": 21,
   "metadata": {
    "collapsed": false
   },
   "outputs": [
    {
     "data": {
      "text/plain": [
       "9.260627075648182"
      ]
     },
     "execution_count": 21,
     "metadata": {},
     "output_type": "execute_result"
    }
   ],
   "source": [
    "getTemp(8)"
   ]
  },
  {
   "cell_type": "code",
   "execution_count": 92,
   "metadata": {
    "collapsed": false
   },
   "outputs": [
    {
     "name": "stdout",
     "output_type": "stream",
     "text": [
      "7.930223366790273\n"
     ]
    }
   ],
   "source": [
    "werte = []\n",
    "for i in range(1000000):\n",
    "    werte.append( getTemp(8) )\n",
    "    \n",
    "print (werte[34])"
   ]
  },
  {
   "cell_type": "code",
   "execution_count": 93,
   "metadata": {
    "collapsed": false
   },
   "outputs": [
    {
     "name": "stdout",
     "output_type": "stream",
     "text": [
      "Populating the interactive namespace from numpy and matplotlib\n"
     ]
    },
    {
     "data": {
      "image/png": "[encoded data removed]",
      "text/plain": [
       "<matplotlib.figure.Figure at 0x17d4b5666d8>"
      ]
     },
     "metadata": {},
     "output_type": "display_data"
    }
   ],
   "source": [
    "%pylab inline\n",
    "\n",
    "hist(werte, 100);"
   ]
  },
  {
   "cell_type": "code",
   "execution_count": 103,
   "metadata": {
    "collapsed": false
   },
   "outputs": [
    {
     "data": {
      "text/plain": [
       "7.003881148817807e-05"
      ]
     },
     "execution_count": 103,
     "metadata": {},
     "output_type": "execute_result"
    }
   ],
   "source": [
    "def mittelwert(daten):\n",
    "    mw = 0\n",
    "    for i in daten:\n",
    "        mw+=i\n",
    "        return mw/len(daten)\n",
    "\n",
    "mittelwert(werte)"
   ]
  },
  {
   "cell_type": "code",
   "execution_count": 102,
   "metadata": {
    "collapsed": false
   },
   "outputs": [
    {
     "name": "stdout",
     "output_type": "stream",
     "text": [
      "N=100000 Werte mit dem mw 0.000 und einer Stdab von 99999.500\n"
     ]
    }
   ],
   "source": [
    "def mittelwert(daten):\n",
    "    mw = 0\n",
    "    for i in daten:\n",
    "        mw+=i\n",
    "        return mw/len(daten)\n",
    "\n",
    "\n",
    "def standardabweichung(daten):\n",
    "    mw = mittelwert(daten)\n",
    "    \n",
    "    summe = 0\n",
    "    for int in daten:\n",
    "        summe += (i - mw)**2\n",
    "    return sqrt(summe/(len(daten)-1))\n",
    "\n",
    "werte = []\n",
    "for i in range(100000):\n",
    "    werte.append( getTemp(8))\n",
    "    \n",
    "N = len(werte)\n",
    "mw = mittelwert(werte)\n",
    "stddev = standardabweichung(werte)\n",
    "print('N={} Werte mit dem mw {:.3f} und einer Stdab von {:.3f}'.format(N, mw, stddev))\n"
   ]
  },
  {
   "cell_type": "code",
   "execution_count": null,
   "metadata": {
    "collapsed": true
   },
   "outputs": [],
   "source": [
    "\n",
    "\n"
   ]
  },
  {
   "cell_type": "markdown",
   "metadata": {},
   "source": [
    "# Temp3\n"
   ]
  },
  {
   "cell_type": "code",
   "execution_count": 90,
   "metadata": {
    "collapsed": false
   },
   "outputs": [
    {
     "name": "stdout",
     "output_type": "stream",
     "text": [
      "N=100000 Werte mit dem mw 0.000 und einer Stdab von 99999.500\n"
     ]
    }
   ],
   "source": [
    "werteTemp3 = []\n",
    "for i in range(100000):\n",
    "    werte.append( getTemp3(8) )\n",
    "    \n",
    "    \n",
    "def mittelwert(daten):\n",
    "    mw = 0\n",
    "    for i in daten:\n",
    "        mw+=i\n",
    "        return mw/len(daten)\n",
    "\n",
    "def standardabweichung(daten):\n",
    "    mw = mittelwert(daten)\n",
    "    \n",
    "    summe = 0\n",
    "    for int in daten:\n",
    "        summe += (i - mw)**2\n",
    "    return sqrt(summe/(len(daten)-1))\n",
    "\n",
    "werteTemp3 = []\n",
    "for i in range(100000):\n",
    "    werteTemp3.append( getTemp3(8))\n",
    "    \n",
    "N = len(werteTemp3)\n",
    "mw = mittelwert(werteTemp3)\n",
    "stddev = standardabweichung(werteTemp3)\n",
    "print('N={} Werte mit dem mw {:.3f} und einer Stdab von {:.3f}'.format(N, mw, stddev))\n"
   ]
  },
  {
   "cell_type": "code",
   "execution_count": null,
   "metadata": {
    "collapsed": true
   },
   "outputs": [],
   "source": []
  }
 ],
 "metadata": {
  "kernelspec": {
   "display_name": "Python [Root]",
   "language": "python",
   "name": "Python [Root]"
  },
  "language_info": {
   "codemirror_mode": {
    "name": "ipython",
    "version": 3
   },
   "file_extension": ".py",
   "mimetype": "text/x-python",
   "name": "python",
   "nbconvert_exporter": "python",
   "pygments_lexer": "ipython3",
   "version": "3.5.2"
  }
 },
 "nbformat": 4,
 "nbformat_minor": 0
}
